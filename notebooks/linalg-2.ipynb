{
 "cells": [
  {
   "cell_type": "markdown",
   "source": [
    "1 Bajar los datos con columnas ['target','columna1', 'columna2', . . ., 'columnaN']\n",
    "e.g. ['municipio','indicador uno','indicador dos', 'indicador 20']:\n",
    "\n",
    "ldurazo: elegí los datos provenientes de https://www.kaggle.com/shishir349/can-pizza-be-healthy"
   ],
   "metadata": {
    "collapsed": false,
    "pycharm": {
     "name": "#%% md\n"
    }
   }
  },
  {
   "cell_type": "code",
   "execution_count": 253,
   "outputs": [],
   "source": [
    "import pandas as pd\n",
    "data = '../data/dataset.csv'\n",
    "df = pd.read_csv(data)"
   ],
   "metadata": {
    "collapsed": false,
    "pycharm": {
     "name": "#%%\n"
    }
   }
  },
  {
   "cell_type": "markdown",
   "source": [
    "2 Se definen las ‘features' (las columnas del dataframe data a las que les vamos\n",
    "aplicar el PCA):"
   ],
   "metadata": {
    "collapsed": false
   }
  },
  {
   "cell_type": "code",
   "execution_count": 254,
   "outputs": [],
   "source": [
    "features = ['mois','prot','fat','ash','sodium','carb']"
   ],
   "metadata": {
    "collapsed": false,
    "pycharm": {
     "name": "#%% \n"
    }
   }
  },
  {
   "cell_type": "markdown",
   "source": [
    "3 Se separan las características:"
   ],
   "metadata": {
    "collapsed": false,
    "pycharm": {
     "name": "#%% md\n"
    }
   }
  },
  {
   "cell_type": "code",
   "execution_count": 255,
   "outputs": [],
   "source": [
    "x = df.loc[:, features].values"
   ],
   "metadata": {
    "collapsed": false,
    "pycharm": {
     "name": "#%% \n"
    }
   }
  },
  {
   "cell_type": "markdown",
   "source": [
    "Se separan el target:"
   ],
   "metadata": {
    "collapsed": false,
    "pycharm": {
     "name": "#%% md\n"
    }
   }
  },
  {
   "cell_type": "code",
   "execution_count": 256,
   "outputs": [],
   "source": [
    "y = df.loc[:,['cal']].values"
   ],
   "metadata": {
    "collapsed": false,
    "pycharm": {
     "name": "#%% \n"
    }
   }
  },
  {
   "cell_type": "markdown",
   "source": [
    "5 Se estandarizan las características:"
   ],
   "metadata": {
    "collapsed": false,
    "pycharm": {
     "name": "#%% md\n"
    }
   }
  },
  {
   "cell_type": "code",
   "execution_count": 257,
   "outputs": [
    {
     "name": "stdout",
     "output_type": "stream",
     "text": [
      "[[-1.37181459  1.25418127  2.74984143  1.9538938   2.97668662 -1.22751105]\n",
      " [-1.30156227  1.22771661  2.64047481  2.13533826  3.03077869 -1.21362189]\n",
      " [-1.31624186  1.03000998  2.85139615  1.93022714  2.59804213 -1.22584435]\n",
      " ...\n",
      " [ 0.3823963  -0.36794707 -0.46866201 -0.16032853 -0.07951534  0.1730719 ]\n",
      " [ 0.70220164 -0.45823828 -0.56352082 -0.24710631 -0.29588362  0.08918137]\n",
      " [ 0.62251244 -0.53918903 -0.52780927 -0.28655076 -0.26883759  0.14529358]]\n"
     ]
    }
   ],
   "source": [
    "from sklearn.preprocessing import StandardScaler\n",
    "x = StandardScaler().fit_transform(x)\n",
    "print(x)"
   ],
   "metadata": {
    "collapsed": false,
    "pycharm": {
     "name": "#%% \n"
    }
   }
  },
  {
   "cell_type": "markdown",
   "source": [
    "¿Qué efecto hace la función StandardScaler a x? ¿Podrías explicarlo en términos de lo\n",
    "visto en álgebra lineal y estadístico?\n",
    "\n",
    "ldurazo: transforma cada valor, quitándole la media y dividiéndo entre la desviación estándar. de modo que la media es cero\n",
    "y la desviación es 1. Esto parece darle una forma uniforme a los datos para un mejor análisis\n",
    "\n",
    "7 Dejemos que sklearn haga su trabajo, por ejemplo pidiéndole 2 componentes:"
   ],
   "metadata": {
    "collapsed": false,
    "pycharm": {
     "name": "#%% md\n"
    }
   }
  },
  {
   "cell_type": "code",
   "execution_count": 258,
   "outputs": [
    {
     "name": "stdout",
     "output_type": "stream",
     "text": [
      "[[ 4.23267051e+00  2.68264146e+00  6.86621441e-02  7.74828419e-02\n",
      "  -2.80780162e-01 -9.97041295e-04]\n",
      " [ 4.29100731e+00  2.61821292e+00  2.31636970e-02  2.76975821e-01\n",
      "  -2.15849439e-01 -9.66934742e-04]\n",
      " [ 4.02144555e+00  2.59015172e+00  9.01403363e-03 -1.39516825e-01\n",
      "   4.13562125e-02 -7.51269404e-04]\n",
      " ...\n",
      " [-4.84872119e-01 -3.69913596e-01 -3.61959554e-01  2.40668266e-01\n",
      "  -4.86298700e-02 -1.95049037e-04]\n",
      " [-6.07431043e-01 -7.30595184e-01 -5.04923504e-01  1.38152438e-01\n",
      "   2.02852663e-02 -1.27135788e-04]\n",
      " [-6.72264303e-01 -6.11734653e-01 -5.38407794e-01  1.25606540e-01\n",
      "   2.24906024e-02 -1.31791790e-04]]\n"
     ]
    }
   ],
   "source": [
    "from sklearn.decomposition import PCA\n",
    "pca = PCA(n_components=6)\n",
    "principalComponents = pca.fit_transform(x)\n",
    "\n",
    "print(principalComponents)"
   ],
   "metadata": {
    "collapsed": false,
    "pycharm": {
     "name": "#%% \n"
    }
   }
  },
  {
   "cell_type": "markdown",
   "source": [
    "¿Cuál es el máximo de componentes principales que puedo pedir?\n",
    "\n",
    "ldurazo: aparentemente, tantas características haya elegido, siempre y cuando los componentes que elija sea menor\n",
    "al número de características o al número de eventos siempre y cuando el número de eventos sea menor al número de características\n",
    "de lo contrario, el máximo siempre es el número de características."
   ],
   "metadata": {
    "collapsed": false,
    "pycharm": {
     "name": "#%% md\n"
    }
   }
  },
  {
   "cell_type": "markdown",
   "source": [
    "8 Fácilmente se puede formar el DataFrame de componentes principales:"
   ],
   "metadata": {
    "collapsed": false,
    "pycharm": {
     "name": "#%% md\n"
    }
   }
  },
  {
   "cell_type": "code",
   "execution_count": 259,
   "outputs": [],
   "source": [
    "matrixComponents = pd.DataFrame(data = principalComponents, columns = ['mois','prot','fat','ash','sodium','carb'])"
   ],
   "metadata": {
    "collapsed": false,
    "pycharm": {
     "name": "#%% \n"
    }
   }
  },
  {
   "cell_type": "markdown",
   "source": [
    "¿Cómo sé qué tantas componentes es pertinente tomar en cuenta para mis datos?\n",
    "\n",
    "9 Usa los comandos explained_variance_ o explained_variance_ratio_ para\n",
    "tomar una decisión informada. Por ejemplo, grafica número de componentes vs el\n",
    "radio de la varianza explicada.\n",
    "\n",
    "ldurazo: podemos ver, utilizando cumsum (suma acumulada del radio de la varianza explicada) que mis primeros dos componentes\n",
    "son responsables del 91% de la varianza. mientras que con 3, tengo el 98%.\n",
    "\n",
    "Estos 3 componentes principales, son los que debería elegir para mis datos."
   ],
   "metadata": {
    "collapsed": false,
    "pycharm": {
     "name": "#%% md\n"
    }
   }
  },
  {
   "cell_type": "code",
   "execution_count": 260,
   "outputs": [
    {
     "name": "stdout",
     "output_type": "stream",
     "text": [
      "[0.66634275 0.91413173 0.98166186 0.995442   0.9999984  1.        ]\n"
     ]
    }
   ],
   "source": [
    "print(pca.explained_variance_ratio_.cumsum())"
   ],
   "metadata": {
    "collapsed": false,
    "pycharm": {
     "name": "#%%\n"
    }
   }
  },
  {
   "cell_type": "markdown",
   "source": [
    "10 Grafica las dos o tres primeras componentes principales.\n",
    "\n",
    "ldurazo: aquí, es fácil observar la varianza explicada por componente"
   ],
   "metadata": {
    "collapsed": false,
    "pycharm": {
     "name": "#%% md\n"
    }
   }
  },
  {
   "cell_type": "code",
   "execution_count": 261,
   "outputs": [
    {
     "data": {
      "text/plain": "<Figure size 432x288 with 1 Axes>",
      "image/png": "[encoded data removed]"
     },
     "metadata": {
      "needs_background": "light"
     },
     "output_type": "display_data"
    }
   ],
   "source": [
    "import matplotlib.pyplot as plt\n",
    "\n",
    "plt.plot(range(0,6), pca.explained_variance_ratio_)\n",
    "plt.ylabel('Explained Variance')\n",
    "plt.xlabel('Principal Components')\n",
    "plt.xticks(range(0,6),\n",
    "           ['mois','prot','fat','ash','sodium','carb'], rotation=60)\n",
    "plt.title('Explained Variance Ratio')\n",
    "plt.show()"
   ],
   "metadata": {
    "collapsed": false,
    "pycharm": {
     "name": "#%%\n"
    }
   }
  }
 ],
 "metadata": {
  "kernelspec": {
   "display_name": "Python 3",
   "language": "python",
   "name": "python3"
  },
  "language_info": {
   "codemirror_mode": {
    "name": "ipython",
    "version": 2
   },
   "file_extension": ".py",
   "mimetype": "text/x-python",
   "name": "python",
   "nbconvert_exporter": "python",
   "pygments_lexer": "ipython2",
   "version": "2.7.6"
  }
 },
 "nbformat": 4,
 "nbformat_minor": 0
}